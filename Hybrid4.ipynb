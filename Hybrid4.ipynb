{
 "cells": [
  {
   "cell_type": "markdown",
   "metadata": {},
   "source": [
    "# Feature Importance Score by Random Forest"
   ]
  },
  {
   "cell_type": "code",
   "execution_count": 27,
   "metadata": {},
   "outputs": [],
   "source": [
    "import pandas as pd\n",
    "import numpy as np\n",
    "import seaborn as sb\n",
    "import matplotlib.pyplot as plt\n",
    "from sklearn.model_selection import train_test_split"
   ]
  },
  {
   "cell_type": "code",
   "execution_count": 28,
   "metadata": {},
   "outputs": [],
   "source": [
    "data=pd.read_excel(\"C:/Users/VINITA/Desktop/HMF.xlsx\")"
   ]
  },
  {
   "cell_type": "code",
   "execution_count": 29,
   "metadata": {},
   "outputs": [
    {
     "data": {
      "text/html": [
       "<div>\n",
       "<style scoped>\n",
       "    .dataframe tbody tr th:only-of-type {\n",
       "        vertical-align: middle;\n",
       "    }\n",
       "\n",
       "    .dataframe tbody tr th {\n",
       "        vertical-align: top;\n",
       "    }\n",
       "\n",
       "    .dataframe thead th {\n",
       "        text-align: right;\n",
       "    }\n",
       "</style>\n",
       "<table border=\"1\" class=\"dataframe\">\n",
       "  <thead>\n",
       "    <tr style=\"text-align: right;\">\n",
       "      <th></th>\n",
       "      <th>Sl_No.</th>\n",
       "      <th>Fund_Scheme_Name</th>\n",
       "      <th>Category</th>\n",
       "      <th>Launch_Date</th>\n",
       "      <th>Crisil_Rating</th>\n",
       "      <th>Net_Assets_(Cr)</th>\n",
       "      <th>1_Yr_Return</th>\n",
       "      <th>3_Yr_Return</th>\n",
       "      <th>5_Yr_Return</th>\n",
       "      <th>Risk</th>\n",
       "      <th>Expense_Ratio</th>\n",
       "      <th>Sharpe_Ratio</th>\n",
       "      <th>Sortino_Ratio</th>\n",
       "      <th>Alpha</th>\n",
       "      <th>Beta</th>\n",
       "      <th>Std_Dev</th>\n",
       "      <th>R_Squared</th>\n",
       "      <th>Year_Trailing</th>\n",
       "      <th>Net_Return</th>\n",
       "      <th>Good</th>\n",
       "    </tr>\n",
       "  </thead>\n",
       "  <tbody>\n",
       "    <tr>\n",
       "      <th>0</th>\n",
       "      <td>1</td>\n",
       "      <td>UTI Arbitrage Fund #</td>\n",
       "      <td>Arbitrage</td>\n",
       "      <td>2006-06-29</td>\n",
       "      <td>Rank 1</td>\n",
       "      <td>1397.70</td>\n",
       "      <td>6.52</td>\n",
       "      <td>6.24</td>\n",
       "      <td>6.60</td>\n",
       "      <td>Moderately Low</td>\n",
       "      <td>0.83</td>\n",
       "      <td>-0.03</td>\n",
       "      <td>-0.04</td>\n",
       "      <td>0.60</td>\n",
       "      <td>0.33</td>\n",
       "      <td>0.45</td>\n",
       "      <td>0.00</td>\n",
       "      <td>13</td>\n",
       "      <td>7.40</td>\n",
       "      <td>0</td>\n",
       "    </tr>\n",
       "    <tr>\n",
       "      <th>1</th>\n",
       "      <td>2</td>\n",
       "      <td>LIC MF Debt Hybrid Fund #</td>\n",
       "      <td>Conservative</td>\n",
       "      <td>2003-06-02</td>\n",
       "      <td>Rank 1</td>\n",
       "      <td>84.93</td>\n",
       "      <td>7.68</td>\n",
       "      <td>5.92</td>\n",
       "      <td>6.55</td>\n",
       "      <td>Moderate</td>\n",
       "      <td>2.30</td>\n",
       "      <td>-0.08</td>\n",
       "      <td>-0.12</td>\n",
       "      <td>-1.91</td>\n",
       "      <td>0.58</td>\n",
       "      <td>3.07</td>\n",
       "      <td>62.19</td>\n",
       "      <td>16</td>\n",
       "      <td>7.73</td>\n",
       "      <td>0</td>\n",
       "    </tr>\n",
       "    <tr>\n",
       "      <th>2</th>\n",
       "      <td>3</td>\n",
       "      <td>ICICI Prudential Regular Savings Fund #</td>\n",
       "      <td>Conservative</td>\n",
       "      <td>2004-03-30</td>\n",
       "      <td>Rank 1</td>\n",
       "      <td>1589.42</td>\n",
       "      <td>8.40</td>\n",
       "      <td>9.33</td>\n",
       "      <td>9.92</td>\n",
       "      <td>Moderately High</td>\n",
       "      <td>2.24</td>\n",
       "      <td>0.84</td>\n",
       "      <td>1.36</td>\n",
       "      <td>1.91</td>\n",
       "      <td>1.58</td>\n",
       "      <td>3.57</td>\n",
       "      <td>88.45</td>\n",
       "      <td>15</td>\n",
       "      <td>10.06</td>\n",
       "      <td>1</td>\n",
       "    </tr>\n",
       "    <tr>\n",
       "      <th>3</th>\n",
       "      <td>4</td>\n",
       "      <td>Reliance Arbitrage Fund #</td>\n",
       "      <td>Arbitrage</td>\n",
       "      <td>2010-10-14</td>\n",
       "      <td>Rank 2</td>\n",
       "      <td>8535.00</td>\n",
       "      <td>6.64</td>\n",
       "      <td>6.41</td>\n",
       "      <td>6.86</td>\n",
       "      <td>Moderately Low</td>\n",
       "      <td>1.04</td>\n",
       "      <td>0.26</td>\n",
       "      <td>0.45</td>\n",
       "      <td>0.70</td>\n",
       "      <td>1.30</td>\n",
       "      <td>0.54</td>\n",
       "      <td>85.00</td>\n",
       "      <td>8</td>\n",
       "      <td>17.83</td>\n",
       "      <td>1</td>\n",
       "    </tr>\n",
       "    <tr>\n",
       "      <th>4</th>\n",
       "      <td>5</td>\n",
       "      <td>Kotak Equity Arbitrage Fund #</td>\n",
       "      <td>Arbitrage</td>\n",
       "      <td>2005-09-29</td>\n",
       "      <td>Rank 2</td>\n",
       "      <td>13360.00</td>\n",
       "      <td>6.56</td>\n",
       "      <td>6.32</td>\n",
       "      <td>6.75</td>\n",
       "      <td>Moderately Low</td>\n",
       "      <td>0.97</td>\n",
       "      <td>0.14</td>\n",
       "      <td>0.23</td>\n",
       "      <td>0.56</td>\n",
       "      <td>1.26</td>\n",
       "      <td>0.45</td>\n",
       "      <td>87.45</td>\n",
       "      <td>13</td>\n",
       "      <td>18.45</td>\n",
       "      <td>1</td>\n",
       "    </tr>\n",
       "  </tbody>\n",
       "</table>\n",
       "</div>"
      ],
      "text/plain": [
       "   Sl_No.                         Fund_Scheme_Name       Category Launch_Date  \\\n",
       "0       1                     UTI Arbitrage Fund #      Arbitrage  2006-06-29   \n",
       "1       2                LIC MF Debt Hybrid Fund #  Conservative   2003-06-02   \n",
       "2       3  ICICI Prudential Regular Savings Fund #  Conservative   2004-03-30   \n",
       "3       4                Reliance Arbitrage Fund #      Arbitrage  2010-10-14   \n",
       "4       5            Kotak Equity Arbitrage Fund #      Arbitrage  2005-09-29   \n",
       "\n",
       "  Crisil_Rating  Net_Assets_(Cr)  1_Yr_Return  3_Yr_Return  5_Yr_Return  \\\n",
       "0        Rank 1          1397.70         6.52         6.24         6.60   \n",
       "1        Rank 1            84.93         7.68         5.92         6.55   \n",
       "2        Rank 1          1589.42         8.40         9.33         9.92   \n",
       "3        Rank 2          8535.00         6.64         6.41         6.86   \n",
       "4        Rank 2         13360.00         6.56         6.32         6.75   \n",
       "\n",
       "              Risk  Expense_Ratio  Sharpe_Ratio  Sortino_Ratio  Alpha  Beta  \\\n",
       "0   Moderately Low           0.83         -0.03          -0.04   0.60  0.33   \n",
       "1         Moderate           2.30         -0.08          -0.12  -1.91  0.58   \n",
       "2  Moderately High           2.24          0.84           1.36   1.91  1.58   \n",
       "3   Moderately Low           1.04          0.26           0.45   0.70  1.30   \n",
       "4   Moderately Low           0.97          0.14           0.23   0.56  1.26   \n",
       "\n",
       "   Std_Dev  R_Squared  Year_Trailing  Net_Return  Good  \n",
       "0     0.45       0.00             13        7.40     0  \n",
       "1     3.07      62.19             16        7.73     0  \n",
       "2     3.57      88.45             15       10.06     1  \n",
       "3     0.54      85.00              8       17.83     1  \n",
       "4     0.45      87.45             13       18.45     1  "
      ]
     },
     "execution_count": 29,
     "metadata": {},
     "output_type": "execute_result"
    }
   ],
   "source": [
    "data.head()"
   ]
  },
  {
   "cell_type": "code",
   "execution_count": 30,
   "metadata": {},
   "outputs": [],
   "source": [
    "X=data[['R_Squared', 'Net_Return', 'Beta', 'Alpha', 'Sharpe_Ratio', 'Std_Dev', 'Expense_Ratio', 'Sortino_Ratio']]\n",
    "y=data['Good']"
   ]
  },
  {
   "cell_type": "code",
   "execution_count": 31,
   "metadata": {},
   "outputs": [],
   "source": [
    "X_train, X_test, y_train, y_test = train_test_split(X, y, test_size=0.2) # 80% data for training purpose & 20% for testing purpose."
   ]
  },
  {
   "cell_type": "code",
   "execution_count": 32,
   "metadata": {},
   "outputs": [],
   "source": [
    "from sklearn.ensemble import RandomForestClassifier # using random forest train, test and generate accuracy"
   ]
  },
  {
   "cell_type": "code",
   "execution_count": 33,
   "metadata": {},
   "outputs": [
    {
     "data": {
      "text/plain": [
       "<matplotlib.axes._subplots.AxesSubplot at 0x211c1df3748>"
      ]
     },
     "execution_count": 33,
     "metadata": {},
     "output_type": "execute_result"
    },
    {
     "data": {
      "image/png": "[encoded data removed]",
      "text/plain": [
       "<Figure size 864x432 with 2 Axes>"
      ]
     },
     "metadata": {
      "needs_background": "light"
     },
     "output_type": "display_data"
    }
   ],
   "source": [
    "sb.heatmap(data.isnull())"
   ]
  },
  {
   "cell_type": "code",
   "execution_count": 49,
   "metadata": {},
   "outputs": [],
   "source": [
    "\n",
    "#def recode_empty_cells(data, list_of_columns):\n",
    "\n",
    "#    for column in list_of_columns:\n",
    "#        data[column] = data[column].replace(r'\\s+', np.nan, regex=True)\n",
    "#        data[column] = data[column].fillna(0)\n",
    "    \n",
    "#    return data\n",
    "\n",
    "#list_of_columns = ['5_Yr_Return','Expense_Ratio','R_Squared']\n",
    "#recode_empty_cells(data, list_of_columns)\n"
   ]
  },
  {
   "cell_type": "code",
   "execution_count": 35,
   "metadata": {},
   "outputs": [],
   "source": [
    "#data.to_excel(\"C:/Users/VINITA/Desktop/HMF.xlsx\")"
   ]
  },
  {
   "cell_type": "code",
   "execution_count": 36,
   "metadata": {},
   "outputs": [],
   "source": [
    "clf=RandomForestClassifier(n_estimators=100)\n",
    "clf.fit(X_train,y_train)\n",
    "y_pred=clf.predict(X_test)"
   ]
  },
  {
   "cell_type": "markdown",
   "metadata": {},
   "source": [
    "# ROC curve with Random Forest Model"
   ]
  },
  {
   "cell_type": "code",
   "execution_count": 37,
   "metadata": {},
   "outputs": [],
   "source": [
    "from sklearn.metrics import roc_curve\n",
    "# calculate roc curve\n",
    "fpr, tpr, thresholds = roc_curve(y_test, y_pred)"
   ]
  },
  {
   "cell_type": "code",
   "execution_count": 38,
   "metadata": {},
   "outputs": [
    {
     "name": "stdout",
     "output_type": "stream",
     "text": [
      "AUC: 0.833\n"
     ]
    }
   ],
   "source": [
    "from sklearn.metrics import roc_auc_score\n",
    "# calculate AUC\n",
    "auc = roc_auc_score(y_test, y_pred)\n",
    "print('AUC: %.3f' % auc)"
   ]
  },
  {
   "cell_type": "code",
   "execution_count": 39,
   "metadata": {},
   "outputs": [
    {
     "data": {
      "image/png": "[encoded data removed]",
      "text/plain": [
       "<Figure size 864x432 with 1 Axes>"
      ]
     },
     "metadata": {
      "needs_background": "light"
     },
     "output_type": "display_data"
    }
   ],
   "source": [
    "# calculate roc curve\n",
    "fpr, tpr, thresholds = roc_curve(y_test, y_pred)\n",
    "# plot no skill\n",
    "plt.plot([0, 1], [0, 1], linestyle='--', color='blue', linewidth='3.3')\n",
    "# plot the roc curve for the model\n",
    "plt.plot(fpr, tpr, marker='o', color='red', label = 'AUC = %0.2f' % auc, linewidth='3.3')\n",
    "# show the plot\n",
    "plt.xlim([0.0, 1.0])\n",
    "plt.ylim([0.0, 1.05])\n",
    "plt.xlabel('False Positive Rate')\n",
    "plt.ylabel('True Positive Rate')\n",
    "plt.title('Receiver Operating Characteristic Curve')\n",
    "plt.legend(loc=\"lower right\")\n",
    "plt.rcParams['figure.figsize']=(12,6)\n",
    "plt.rcParams['font.size'] = 14\n",
    "plt.show()"
   ]
  },
  {
   "cell_type": "markdown",
   "metadata": {},
   "source": [
    "**AUC - ROC curve is a performance measurement for classification problem at various thresholds settings. ROC is a probability curve and AUC represents degree or measure of separability. It tells how much model is capable of distinguishing between classes. Higher the AUC, better the model is at predicting 0s as 0s and 1s as 1s.**"
   ]
  },
  {
   "cell_type": "markdown",
   "metadata": {},
   "source": [
    "# Accuracy in Random Forest"
   ]
  },
  {
   "cell_type": "code",
   "execution_count": 40,
   "metadata": {},
   "outputs": [],
   "source": [
    "from sklearn import metrics"
   ]
  },
  {
   "cell_type": "code",
   "execution_count": 41,
   "metadata": {},
   "outputs": [
    {
     "name": "stdout",
     "output_type": "stream",
     "text": [
      "Accuracy: 0.8333333333333334\n"
     ]
    }
   ],
   "source": [
    "print(\"Accuracy:\",metrics.accuracy_score(y_test, y_pred))"
   ]
  },
  {
   "cell_type": "markdown",
   "metadata": {},
   "source": [
    "# Confusion Matrix in Random Forest"
   ]
  },
  {
   "cell_type": "code",
   "execution_count": 42,
   "metadata": {},
   "outputs": [
    {
     "name": "stdout",
     "output_type": "stream",
     "text": [
      "Confusion Matrix :\n",
      "[[2 1]\n",
      " [0 3]]\n",
      "Accuracy Score : 0.8333333333333334\n",
      "Report : \n",
      "              precision    recall  f1-score   support\n",
      "\n",
      "           0       1.00      0.67      0.80         3\n",
      "           1       0.75      1.00      0.86         3\n",
      "\n",
      "   micro avg       0.83      0.83      0.83         6\n",
      "   macro avg       0.88      0.83      0.83         6\n",
      "weighted avg       0.88      0.83      0.83         6\n",
      "\n"
     ]
    }
   ],
   "source": [
    "# Python script for confusion matrix creation. \n",
    "from sklearn.metrics import confusion_matrix \n",
    "from sklearn.metrics import accuracy_score \n",
    "from sklearn.metrics import classification_report \n",
    "\n",
    "results = confusion_matrix(y_test, y_pred) \n",
    "print ('Confusion Matrix :')\n",
    "print(results) \n",
    "print ('Accuracy Score :',accuracy_score(y_test, y_pred))\n",
    "print ('Report : ')\n",
    "print(classification_report(y_test, y_pred))"
   ]
  },
  {
   "cell_type": "code",
   "execution_count": 43,
   "metadata": {},
   "outputs": [],
   "source": [
    "#sb.heatmap(results, annot=True, annot_kws={\"size\": 16})"
   ]
  },
  {
   "cell_type": "code",
   "execution_count": 44,
   "metadata": {},
   "outputs": [
    {
     "data": {
      "image/png": "[encoded data removed]",
      "text/plain": [
       "<Figure size 864x432 with 2 Axes>"
      ]
     },
     "metadata": {
      "needs_background": "light"
     },
     "output_type": "display_data"
    }
   ],
   "source": [
    "from sklearn.metrics import confusion_matrix\n",
    "import itertools\n",
    "labels = [1, 0]\n",
    "cm = confusion_matrix(y_test, y_pred, labels)\n",
    "#print(cm)\n",
    "fig = plt.figure()\n",
    "ax = fig.add_subplot(111)\n",
    "cax = ax.matshow(cm)\n",
    "#plt.title('Confusion matrix of the classifier')\n",
    "fig.colorbar(cax)\n",
    "ax.set_xticklabels([''] + labels)\n",
    "ax.set_yticklabels([''] + labels)\n",
    "\n",
    "thresh = cm.max() / 1.5\n",
    "for i, j in itertools.product(range(cm.shape[0]), range(cm.shape[1])):\n",
    "    plt.text(j, i, \"{:0.1f}\".format(cm[i, j]), horizontalalignment=\"center\", color=\"black\" if cm[i, j] > thresh else \"white\")\n",
    "    \n",
    "plt.xlabel('Predicted')\n",
    "plt.ylabel('Actual')\n",
    "plt.show()"
   ]
  },
  {
   "cell_type": "markdown",
   "metadata": {},
   "source": [
    "# Feature Importance by Random Forest"
   ]
  },
  {
   "cell_type": "code",
   "execution_count": 45,
   "metadata": {},
   "outputs": [],
   "source": [
    "from sklearn.ensemble import RandomForestClassifier"
   ]
  },
  {
   "cell_type": "code",
   "execution_count": 46,
   "metadata": {},
   "outputs": [
    {
     "data": {
      "text/plain": [
       "RandomForestClassifier(bootstrap=True, class_weight=None, criterion='gini',\n",
       "            max_depth=None, max_features='auto', max_leaf_nodes=None,\n",
       "            min_impurity_decrease=0.0, min_impurity_split=None,\n",
       "            min_samples_leaf=1, min_samples_split=2,\n",
       "            min_weight_fraction_leaf=0.0, n_estimators=100, n_jobs=None,\n",
       "            oob_score=False, random_state=None, verbose=0,\n",
       "            warm_start=False)"
      ]
     },
     "execution_count": 46,
     "metadata": {},
     "output_type": "execute_result"
    }
   ],
   "source": [
    "clf=RandomForestClassifier(n_estimators=100)\n",
    "clf.fit(X_train,y_train)"
   ]
  },
  {
   "cell_type": "code",
   "execution_count": 47,
   "metadata": {},
   "outputs": [
    {
     "data": {
      "text/plain": [
       "Beta             0.244486\n",
       "Net_Return       0.243470\n",
       "R_Squared        0.234252\n",
       "Alpha            0.097835\n",
       "Sortino_Ratio    0.057357\n",
       "Sharpe_Ratio     0.054257\n",
       "Expense_Ratio    0.034194\n",
       "Std_Dev          0.034150\n",
       "dtype: float64"
      ]
     },
     "execution_count": 47,
     "metadata": {},
     "output_type": "execute_result"
    }
   ],
   "source": [
    "feature_imp = pd.Series(clf.feature_importances_,index=['R_Squared', 'Net_Return', 'Beta', 'Alpha', 'Sharpe_Ratio', 'Std_Dev', 'Expense_Ratio', 'Sortino_Ratio']).sort_values(ascending=False)\n",
    "feature_imp"
   ]
  },
  {
   "cell_type": "code",
   "execution_count": 48,
   "metadata": {},
   "outputs": [
    {
     "name": "stderr",
     "output_type": "stream",
     "text": [
      "No handles with labels found to put in legend.\n"
     ]
    },
    {
     "data": {
      "image/png": "[encoded data removed]",
      "text/plain": [
       "<Figure size 432x288 with 1 Axes>"
      ]
     },
     "metadata": {
      "needs_background": "light"
     },
     "output_type": "display_data"
    }
   ],
   "source": [
    "import matplotlib.pyplot as plt\n",
    "import seaborn as sns\n",
    "%matplotlib inline\n",
    "\n",
    "sns.barplot(x=feature_imp, y=feature_imp.index)\n",
    "\n",
    "plt.xlabel('Feature Importance Score')\n",
    "plt.ylabel('Features')\n",
    "plt.title(\"Visualizing Important Features\")\n",
    "plt.legend()\n",
    "plt.show()"
   ]
  },
  {
   "cell_type": "code",
   "execution_count": 21,
   "metadata": {},
   "outputs": [],
   "source": [
    "import pickle\n",
    "filename=r'C:\\Users\\VINITA\\Desktop\\clf.sav'\n",
    "pickle.dump(clf,open(filename,'wb'))"
   ]
  },
  {
   "cell_type": "code",
   "execution_count": null,
   "metadata": {},
   "outputs": [],
   "source": []
  },
  {
   "cell_type": "code",
   "execution_count": null,
   "metadata": {},
   "outputs": [],
   "source": []
  }
 ],
 "metadata": {
  "kernelspec": {
   "display_name": "Python 3",
   "language": "python",
   "name": "python3"
  },
  "language_info": {
   "codemirror_mode": {
    "name": "ipython",
    "version": 3
   },
   "file_extension": ".py",
   "mimetype": "text/x-python",
   "name": "python",
   "nbconvert_exporter": "python",
   "pygments_lexer": "ipython3",
   "version": "3.7.1"
  }
 },
 "nbformat": 4,
 "nbformat_minor": 2
}
